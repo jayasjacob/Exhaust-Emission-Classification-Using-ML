{
 "cells": [
  {
   "cell_type": "markdown",
   "metadata": {},
   "source": [
    "### Reading the dataset"
   ]
  },
  {
   "cell_type": "code",
   "execution_count": 1,
   "metadata": {
    "collapsed": true
   },
   "outputs": [],
   "source": [
    "#Author:Jayas P Jacob\n",
    "import numpy as np\n",
    "import pandas as pd\n",
    "\n",
    "datatrain1=pd.read_csv('Batch1e.csv')\n",
    "datatrain2=pd.read_csv('Batch2e.csv')\n",
    "datatrain3=pd.read_csv('Batch3e.csv')\n",
    "datatrain4=pd.read_csv('Batch4e.csv')\n",
    "datatrain5=pd.read_csv('Batch5e.csv')\n",
    "datatrain6=pd.read_csv('Batch6e.csv')\n",
    "datatrain7=pd.read_csv('Batch7e.csv')\n",
    "datatrain8=pd.read_csv('Batch8e.csv')\n",
    "datatrain9=pd.read_csv('Batch9e.csv')\n",
    "datatrain10=pd.read_csv('Batch10e.csv')\n",
    "datatrain=pd.read_csv('test_data.csv')"
   ]
  },
  {
   "cell_type": "markdown",
   "metadata": {},
   "source": [
    "### Change dataframe to array"
   ]
  },
  {
   "cell_type": "code",
   "execution_count": 2,
   "metadata": {
    "collapsed": true
   },
   "outputs": [],
   "source": [
    "X1=np.array(datatrain1)\n",
    "X2=np.array(datatrain2)\n",
    "X3=np.array(datatrain3)\n",
    "X4=np.array(datatrain4)\n",
    "X5=np.array(datatrain5)\n",
    "X6=np.array(datatrain6)\n",
    "X7=np.array(datatrain7)\n",
    "X8=np.array(datatrain8)\n",
    "X9=np.array(datatrain9)\n",
    "X10=np.array(datatrain10)\n",
    "\n",
    "array_list=[X1,X2,X3,X4,X5,X6,X7,X8,X9,X10]\n",
    "sample = np.concatenate([X1, X2])\n",
    "lengths = [len(X1), len(X2)]\n",
    "datatrain_array=np.vstack(array_list)"
   ]
  },
  {
   "cell_type": "markdown",
   "metadata": {},
   "source": [
    "### Split x and y (feature and target)"
   ]
  },
  {
   "cell_type": "code",
   "execution_count": 3,
   "metadata": {
    "collapsed": true
   },
   "outputs": [],
   "source": [
    "from sklearn.preprocessing import MaxAbsScaler\n",
    "\n",
    "xtrain = datatrain_array[:,1:130]\n",
    "ytrain = datatrain_array[:,0]\n",
    "\n",
    "max_abs_scaler = MaxAbsScaler()\n",
    "xtrain = max_abs_scaler.fit_transform(xtrain) "
   ]
  },
  {
   "cell_type": "markdown",
   "metadata": {},
   "source": [
    "### Train and test split"
   ]
  },
  {
   "cell_type": "code",
   "execution_count": 4,
   "metadata": {},
   "outputs": [
    {
     "name": "stderr",
     "output_type": "stream",
     "text": [
      "Using TensorFlow backend.\n"
     ]
    }
   ],
   "source": [
    "from sklearn.model_selection import train_test_split\n",
    "from keras.utils import np_utils\n",
    "\n",
    "X_train, X_test, y_train, y_test = train_test_split(xtrain, ytrain, test_size=.1,random_state=1)\n",
    "\n",
    "#changing target format\n",
    "y_train = np_utils.to_categorical(y_train)\n",
    "y_test=np_utils.to_categorical(y_test)"
   ]
  },
  {
   "cell_type": "markdown",
   "metadata": {},
   "source": [
    "### Neural Network"
   ]
  },
  {
   "cell_type": "code",
   "execution_count": 7,
   "metadata": {},
   "outputs": [
    {
     "name": "stderr",
     "output_type": "stream",
     "text": [
      "C:\\Users\\nafi\\Anaconda3\\lib\\site-packages\\ipykernel_launcher.py:5: UserWarning: Update your `Dense` call to the Keras 2 API: `Dense(129, input_dim=129, activation=\"relu\", kernel_initializer=\"uniform\")`\n",
      "  \"\"\"\n",
      "C:\\Users\\nafi\\Anaconda3\\lib\\site-packages\\ipykernel_launcher.py:6: UserWarning: Update your `Dense` call to the Keras 2 API: `Dense(50, activation=\"relu\", kernel_initializer=\"uniform\")`\n",
      "  \n",
      "C:\\Users\\nafi\\Anaconda3\\lib\\site-packages\\ipykernel_launcher.py:7: UserWarning: Update your `Dense` call to the Keras 2 API: `Dense(80, activation=\"relu\", kernel_initializer=\"uniform\")`\n",
      "  import sys\n",
      "C:\\Users\\nafi\\Anaconda3\\lib\\site-packages\\ipykernel_launcher.py:8: UserWarning: Update your `Dense` call to the Keras 2 API: `Dense(7, activation=\"softmax\", kernel_initializer=\"uniform\")`\n",
      "  \n"
     ]
    },
    {
     "name": "stdout",
     "output_type": "stream",
     "text": [
      "ground truth     :  [[ 0.  0.  0. ...,  0.  0.  0.]\n",
      " [ 0.  0.  0. ...,  0.  0.  0.]\n",
      " [ 0.  0.  0. ...,  0.  1.  0.]\n",
      " ..., \n",
      " [ 0.  0.  0. ...,  1.  0.  0.]\n",
      " [ 0.  0.  0. ...,  0.  1.  0.]\n",
      " [ 0.  0.  1. ...,  0.  0.  0.]]\n",
      "predicted class  :  [[  3.70862268e-22   5.55666103e-11   2.18445246e-04 ...,   8.52009029e-14\n",
      "    5.80174105e-16   1.33879792e-18]\n",
      " [  1.72640995e-13   7.90495239e-11   6.91156785e-08 ...,   2.74123886e-06\n",
      "    2.98309349e-03   2.72585166e-05]\n",
      " [  0.00000000e+00   0.00000000e+00   0.00000000e+00 ...,   7.74545644e-25\n",
      "    1.00000000e+00   0.00000000e+00]\n",
      " ..., \n",
      " [  1.62285889e-21   2.20373004e-05   1.47089247e-06 ...,   9.99966145e-01\n",
      "    1.84428944e-10   1.03701586e-05]\n",
      " [  0.00000000e+00   8.19282904e-02   7.15551991e-08 ...,   7.81327367e-01\n",
      "    1.36744261e-01   0.00000000e+00]\n",
      " [  0.00000000e+00   5.12485201e-07   9.99999523e-01 ...,   6.69184296e-31\n",
      "    0.00000000e+00   0.00000000e+00]]\n",
      "model accuracy   :  0.997971594334\n"
     ]
    }
   ],
   "source": [
    "from keras.models import Sequential\n",
    "from keras.layers import Dense\n",
    "\n",
    "model = Sequential()\n",
    "model.add(Dense(129, input_dim=129, init='uniform', activation='relu'))\n",
    "model.add(Dense(50, init='uniform', activation='relu'))\n",
    "model.add(Dense(80, init='uniform', activation='relu'))\n",
    "model.add(Dense(7, init='uniform', activation='softmax'))\n",
    "model.compile(loss='categorical_crossentropy', optimizer='adam', metrics=['mse','mae','mape','acc'])\n",
    "MLP=model.fit(X_train, y_train, epochs=1000, batch_size=150000,validation_split=0.33, verbose=0)\n",
    "y_pred = model.predict(X_test)\n",
    "accuracy=np.array(MLP.history['acc'])\n",
    "\n",
    "print('ground truth     : ',y_test)\n",
    "print('predicted class  : ', y_pred)\n",
    "print('model accuracy   : ',accuracy[999])"
   ]
  },
  {
   "cell_type": "markdown",
   "metadata": {
    "collapsed": true
   },
   "source": [
    "### Plotting model accuracy and loss"
   ]
  },
  {
   "cell_type": "code",
   "execution_count": 9,
   "metadata": {},
   "outputs": [
    {
     "data": {
      "image/png": "[encoded data removed]",
      "text/plain": [
       "<matplotlib.figure.Figure at 0x142cedb5b38>"
      ]
     },
     "metadata": {},
     "output_type": "display_data"
    },
    {
     "data": {
      "image/png": "[encoded data removed]",
      "text/plain": [
       "<matplotlib.figure.Figure at 0x142cef88908>"
      ]
     },
     "metadata": {},
     "output_type": "display_data"
    }
   ],
   "source": [
    "import matplotlib.pyplot as plt\n",
    "\n",
    "# summarize history for accuracy\n",
    "fig = plt.figure(figsize=(4,3))\n",
    "plt.plot(MLP.history['acc'])\n",
    "plt.plot(MLP.history['val_acc'])\n",
    "plt.title('model accuracy')\n",
    "plt.ylabel('accuracy')\n",
    "plt.xlabel('epoch')\n",
    "plt.legend(['train', 'test'], loc='lower right')\n",
    "rootdir = 'F:/OneDrive/Research & Study/Thesis Writing/mlp_acc.png'\n",
    "plt.savefig(rootdir,figsize=(4,3),dpi=500,bbox_inches='tight',labelsize=11)\n",
    "plt.show()\n",
    "\n",
    "# summarize history for loss\n",
    "fig = plt.figure(figsize=(4,3))\n",
    "plt.plot(MLP.history['mean_squared_error'])\n",
    "plt.plot(MLP.history['val_mean_squared_error'])\n",
    "plt.title('model loss')\n",
    "plt.ylabel('loss')\n",
    "plt.xlabel('epoch')\n",
    "plt.legend(['train', 'test'], loc='upper right')\n",
    "rootdir = 'F:/OneDrive/Research & Study/Thesis Writing/mlp_loss.png'\n",
    "plt.savefig(rootdir,figsize=(4,3),dpi=500,bbox_inches='tight',labelsize=11)\n",
    "plt.show()\n"
   ]
  },
  {
   "cell_type": "code",
   "execution_count": null,
   "metadata": {
    "collapsed": true
   },
   "outputs": [],
   "source": []
  }
 ],
 "metadata": {
  "kernelspec": {
   "display_name": "Python 3",
   "language": "python",
   "name": "python3"
  },
  "language_info": {
   "codemirror_mode": {
    "name": "ipython",
    "version": 3
   },
   "file_extension": ".py",
   "mimetype": "text/x-python",
   "name": "python",
   "nbconvert_exporter": "python",
   "pygments_lexer": "ipython3",
   "version": "3.6.2"
  }
 },
 "nbformat": 4,
 "nbformat_minor": 2
}